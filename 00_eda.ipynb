{
 "cells": [
  {
   "cell_type": "code",
   "execution_count": 1,
   "metadata": {},
   "outputs": [],
   "source": [
    "import functions \n",
    "\n",
    "import pandas as pd\n",
    "import plotly.express as px\n",
    "import plotly.graph_objects as go\n"
   ]
  },
  {
   "cell_type": "code",
   "execution_count": 2,
   "metadata": {},
   "outputs": [],
   "source": [
    "# Reads a text file called 'antenas.txt' with space as delimiter and no header\n",
    "df = pd.read_csv(   \"files\\\\antenas.txt\", \n",
    "                    sep = ' ', \n",
    "                    header = None)  \n",
    "\n",
    "# Removes index columns 2 and 6 from the DataFrame\n",
    "df.drop(columns = [2, 6], \n",
    "        inplace = True)\n",
    "\n",
    "# Rename DataFrame columns to more descriptive names\n",
    "df.rename(  columns = {0 : \"ID\", 1 : \"time_In\", 3 : 'X', 4 : 'Y', 5 : \"Permanence (s)\"}, \n",
    "            inplace = True)\n",
    "\n",
    "# Multiplies the values in the \"Permanence (s)\" column by 10\n",
    "df[\"Permanence (s)\"] = df[\"Permanence (s)\"] * 10\n",
    "\n",
    "# Display the first rows of the DataFrame\n",
    "df.head()\n",
    "\n",
    "# Save the new df in parquet\n",
    "df.to_parquet(\"files\\\\antennas.parquet\")"
   ]
  },
  {
   "cell_type": "markdown",
   "metadata": {},
   "source": [
    "### Exploratory Data Analysis"
   ]
  },
  {
   "cell_type": "code",
   "execution_count": null,
   "metadata": {},
   "outputs": [],
   "source": [
    "total_vehicles = df[\"ID\"].nunique()\n",
    "print(f\"Existem {total_vehicles} no cenário.\\n\\n\")\n",
    "\n",
    "\n",
    "time_df = df[[\"ID\", \"Permanence (s)\"]].groupby(\"ID\").sum().copy()\n",
    "time_df.reset_index(inplace = True)\n",
    "\n",
    "print(f\"Informações básicas sobre o tempo de permanência dos veículos.\")\n",
    "time_df[\"Permanence (s)\"].describe()"
   ]
  },
  {
   "cell_type": "code",
   "execution_count": null,
   "metadata": {},
   "outputs": [],
   "source": [
    "df_ = df[['X', 'Y', \"ID\"]].groupby(['X', 'Y']).count()\n",
    "df_.reset_index(inplace = True)\n",
    "df_ = df_.pivot(index='X', columns='Y', values=\"ID\")\n",
    "df_.fillna(0, inplace = True)\n",
    "\n",
    "fig = px.imshow(df_)\n",
    "fig.update_layout(  title = \"Total de Carros por Coordenadas (X,Y)\")\n",
    "\n",
    "fig.update_xaxes(   title_text = \"Coordenada: X\")\n",
    "fig.update_yaxes(   title_text = \"Coordenada: Y\")\n",
    "\n",
    "fig.update_xaxes(   tickvals = [0, 20, 40, 60, 80, 99], \n",
    "                    ticktext = [0, 20, 40, 60, 80, 99])\n",
    "\n",
    "fig.update_yaxes(   tickvals = [0, 20, 40, 60, 80, 99], \n",
    "                    ticktext = [0, 20, 40, 60, 80, 99])\n",
    "\n",
    "fig.show()"
   ]
  },
  {
   "cell_type": "code",
   "execution_count": null,
   "metadata": {},
   "outputs": [],
   "source": [
    "df_ = df[['X', 'Y', \"Permanence (s)\"]].groupby(['X', 'Y']).sum()\n",
    "df_.reset_index(inplace = True)\n",
    "df_ = df_.pivot(index='X', columns='Y', values=\"Permanence (s)\")\n",
    "df_.fillna(0, inplace = True)\n",
    "\n",
    "fig = px.imshow(df_)\n",
    "fig.update_layout(  title = \" Total de Permanência dos Veículos nas Coordanadas  (X,Y)\")\n",
    "\n",
    "fig.update_xaxes(   title_text = \"Coordenadas: X\")\n",
    "fig.update_yaxes(   title_text = \"Coordenadas: Y\")\n",
    "\n",
    "fig.update_xaxes(   tickvals = [0, 20, 40, 60, 80, 99], \n",
    "                    ticktext = [0, 20, 40, 60, 80, 99])\n",
    "\n",
    "fig.update_yaxes(   tickvals = [0, 20, 40, 60, 80, 99], \n",
    "                    ticktext = [0, 20, 40, 60, 80, 99])\n",
    "\n",
    "fig.show()"
   ]
  }
 ],
 "metadata": {
  "kernelspec": {
   "display_name": ".a3data",
   "language": "python",
   "name": "python3"
  },
  "language_info": {
   "codemirror_mode": {
    "name": "ipython",
    "version": 3
   },
   "file_extension": ".py",
   "mimetype": "text/x-python",
   "name": "python",
   "nbconvert_exporter": "python",
   "pygments_lexer": "ipython3",
   "version": "3.12.2"
  }
 },
 "nbformat": 4,
 "nbformat_minor": 2
}
