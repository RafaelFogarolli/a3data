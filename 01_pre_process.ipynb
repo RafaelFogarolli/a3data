{
 "cells": [
  {
   "cell_type": "code",
   "execution_count": 1,
   "metadata": {},
   "outputs": [],
   "source": [
    "import functions \n",
    "\n",
    "import pandas as pd\n",
    "import plotly.express as px\n",
    "import plotly.graph_objects as go\n"
   ]
  },
  {
   "cell_type": "markdown",
   "metadata": {},
   "source": [
    "### Pre Process"
   ]
  },
  {
   "cell_type": "code",
   "execution_count": 3,
   "metadata": {},
   "outputs": [],
   "source": [
    "df = pd.read_parquet(\"files\\\\antennas.parquet\")\n",
    "\n",
    "# Create a new DataFrame 'df_RSU' with unique 'X' and 'Y' values by dropping duplicates and copying the result\n",
    "df_RSU = df[['X', 'Y']].drop_duplicates().copy()\n",
    "\n",
    "# Sort the 'df_RSU' DataFrame by the 'X' and 'Y' columns in ascending order\n",
    "df_RSU.sort_values( by = ['X', 'Y'], \n",
    "                    inplace = True)\n",
    "\n",
    "# Reset the index of 'df_RSU' and drop the old index\n",
    "df_RSU.reset_index( drop = True, \n",
    "                    inplace = True)\n",
    "\n",
    "# Add a new column 'IDR' to 'df_RSU' containing index values\n",
    "df_RSU[\"IDR\"] = list(df_RSU.index)\n",
    "\n",
    "# Merge 'df_RSU' into the original DataFrame 'df' using a left join\n",
    "df = df.merge(df_RSU, how = \"left\")\n",
    "\n",
    "# Create a new DataFrame 'df_total_time' by grouping 'ID' and summing 'Permanence (s)' within each group\n",
    "df_total_time = df[[\"ID\", \"Permanence (s)\"]].groupby(\"ID\").sum().reset_index()\n",
    "\n",
    "# Rename the 'Permanence (s)' column in 'df_total_time' to 'Total Time'\n",
    "df_total_time.rename(columns = {\"Permanence (s)\" : \"Total Time\"}, inplace = True)\n",
    "\n",
    "# Merge 'df_total_time' into the original DataFrame 'df' using a left join\n",
    "df = df.merge(df_total_time, how = \"left\")\n",
    "\n",
    "# Calculate a new 'Permanence (%)' column by dividing 'Permanence (s)' by 'Total Time'\n",
    "df[\"Permanence (%)\"] = df[\"Permanence (s)\"] / df[\"Total Time\"]"
   ]
  },
  {
   "cell_type": "code",
   "execution_count": 4,
   "metadata": {},
   "outputs": [],
   "source": [
    "# Create an empty dictionary 'permanence_dict' to store calculated values\n",
    "permanence_dict = {}\n",
    "\n",
    "# Loop through each row in the DataFrame 'df' using the iterrows() function\n",
    "for i in df.iterrows():\n",
    "    #print(f\"{i[0]} de {df.shape[0]}\")\n",
    "\n",
    "    # Assign the 'ID' and 'IDR' values from the current row as a tuple\n",
    "    # and store the corresponding 'Permanence (%)' value in the dictionary\n",
    "    permanence_dict[i[1][\"ID\"], i[1][\"IDR\"]] = i[1][\"Permanence (%)\"]"
   ]
  },
  {
   "cell_type": "code",
   "execution_count": 5,
   "metadata": {},
   "outputs": [],
   "source": [
    "# Saves the new df in parquet\n",
    "df.to_parquet(\"files\\\\vehicles.parquet\")\n",
    "\n",
    "# Saves the new df in parquet\n",
    "df_RSU.to_parquet(\"files\\\\antennas.parquet\")\n",
    "\n",
    "# Saves the matrix remains in pickle\n",
    "functions.save_pickle(permanence_dict, \"files\\\\permanence_dict.pkl\")"
   ]
  }
 ],
 "metadata": {
  "kernelspec": {
   "display_name": ".a3data",
   "language": "python",
   "name": "python3"
  },
  "language_info": {
   "codemirror_mode": {
    "name": "ipython",
    "version": 3
   },
   "file_extension": ".py",
   "mimetype": "text/x-python",
   "name": "python",
   "nbconvert_exporter": "python",
   "pygments_lexer": "ipython3",
   "version": "3.12.2"
  }
 },
 "nbformat": 4,
 "nbformat_minor": 2
}
