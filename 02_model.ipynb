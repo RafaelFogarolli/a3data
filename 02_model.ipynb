{
 "cells": [
  {
   "cell_type": "code",
   "execution_count": null,
   "metadata": {},
   "outputs": [],
   "source": [
    "from pyomo.environ import *\n",
    "import pandas as pd\n",
    "import functions"
   ]
  },
  {
   "cell_type": "markdown",
   "metadata": {},
   "source": [
    "#### Parameters"
   ]
  },
  {
   "cell_type": "code",
   "execution_count": null,
   "metadata": {},
   "outputs": [],
   "source": [
    "# Set the value of 'beta' to 0.3 and 'alfa' to 0.5\n",
    "beta = 0.3\n",
    "alfa = 0.5\n",
    "\n",
    "# Read a Parquet file named 'vehicles.parquet' and store it in the DataFrame 'df'\n",
    "df = pd.read_parquet(\"files\\\\vehicles.parquet\")\n",
    "# Calculate the total number of unique 'ID' values in the 'df' DataFrame\n",
    "total_vehicles = df[\"ID\"].nunique()\n",
    "\n",
    "# Read a Parquet file named 'antennas.parquet' and store it in the DataFrame 'df_RSU'\n",
    "df_RSU = pd.read_parquet(\"files\\\\antennas.parquet\")\n",
    "# Calculate the total number of unique 'IDR' values in the 'df_RSU' DataFrame\n",
    "total_RSU = df_RSU[\"IDR\"].nunique()\n",
    "\n",
    "# Load a pickled file named 'permanence_dict.pkl' and store its content in the 'permanence' variable\n",
    "permanence = functions.load_pickle(\"files\\\\permanence_dict.pkl\")"
   ]
  },
  {
   "cell_type": "markdown",
   "metadata": {},
   "source": [
    "#### Model"
   ]
  },
  {
   "cell_type": "code",
   "execution_count": null,
   "metadata": {},
   "outputs": [],
   "source": [
    "def constraint_0(model):\n",
    "    \"\"\"\n",
    "    \"\"\"\n",
    "    global alfa\n",
    "    \n",
    "    return sum(model.qos[v] for v in model.Vehicles) / (total_vehicles) >= beta\n",
    "\n",
    "\n",
    "\n",
    "def constraint_1(model, v):\n",
    "    \"\"\"\n",
    "    \"\"\"\n",
    "    global beta, permanence, df\n",
    "\n",
    "    return sum(model.on[i] * permanence[(v, i)]  for i in model.Antenna if (v, i) in permanence) >= alfa * model.qos[v]\n",
    "\n",
    "\n",
    "\n",
    "# Objective Function : Minimize \n",
    "def function_objective(model):\n",
    "\n",
    "    obj = sum(   model.on[i]\n",
    "                    for i in model.Antenna )\n",
    "    \n",
    "    return obj "
   ]
  },
  {
   "cell_type": "code",
   "execution_count": null,
   "metadata": {},
   "outputs": [],
   "source": [
    "# Creating the Model\n",
    "model = ConcreteModel()\n",
    "\n",
    "# Creating the Sets\n",
    "model.Antenna = RangeSet(0, total_RSU-1) # Set of RSU\n",
    "model.Vehicles = RangeSet(0, total_vehicles-1) # Set of Vehicles\n",
    "\n",
    "# Creating Variables\n",
    "    \n",
    "# on[i] = 1, if antenna c is on\n",
    "model.on = Var(  model.Antenna,\n",
    "                within = Binary,\n",
    "                initialize = 0 \n",
    "            )\n",
    "\n",
    "# qos[v] = 1, if vehicle v in connected\n",
    "model.qos = Var(model.Vehicles,\n",
    "                within = Binary,\n",
    "                initialize = 0 \n",
    "            )\n",
    "\n",
    "\n",
    "model.objective = Objective(    rule = function_objective, \n",
    "                                sense = minimize\n",
    "                            )\n",
    "\n",
    "model.C0 = Constraint(  rule = constraint_0 )\n",
    "model.C1 = Constraint(  model.Vehicles,\n",
    "                        rule = constraint_1 )"
   ]
  },
  {
   "cell_type": "code",
   "execution_count": null,
   "metadata": {},
   "outputs": [],
   "source": [
    "# Selecting and Creating the Solver\n",
    "# ----------------------------\n",
    "solver = SolverFactory(\"cplex\")\n",
    "solver.options[\"timelimit\"] = 10000\n",
    "\n",
    "# Calling the solver and solving the model\n",
    "# ----------------------------\n",
    "\n",
    "results = solver.solve( model, \n",
    "                        #tee = True, \n",
    "                        #keepfiles = True, \n",
    "                    )\n",
    "\n",
    "# Print the objective function value from the 'model' and display it as part of a message\n",
    "print(f\"FO value: {value(model.objective)}\")\n",
    "\n",
    "# Create a list 'all_results' containing 'results' and 'model' and save it to a pickle file named 'Solution_model.pkl'\n",
    "all_results = [results, model]\n",
    "functions.save_pickle(results, \"files\\\\Solution_model.pkl\")"
   ]
  },
  {
   "cell_type": "code",
   "execution_count": null,
   "metadata": {},
   "outputs": [],
   "source": [
    "# Create an empty list 'on_off' to store the values of 'model.on[i]' for each 'i'\n",
    "on_off = []\n",
    "\n",
    "# Loop through a range of values from 0 to 'total_RSU'\n",
    "for i in range(total_RSU):\n",
    "\n",
    "    # Append the value of 'model.on[i]' to the 'on_off' list\n",
    "    on_off.append(value(model.on[i]))\n",
    "\n",
    "# Add a new column 'ON' to the 'df_RSU' DataFrame and populate it with the values from the 'on_off' list\n",
    "df_RSU[\"ON\"] = on_off\n",
    "# Save the modified 'df_RSU' DataFrame to a pickle file named 'Solution_PL.pkl'\n",
    "functions.save_pickle(    df_RSU, \n",
    "                \"files\\\\Solution_PL.pkl\")"
   ]
  }
 ],
 "metadata": {
  "kernelspec": {
   "display_name": ".a3data",
   "language": "python",
   "name": "python3"
  },
  "language_info": {
   "codemirror_mode": {
    "name": "ipython",
    "version": 3
   },
   "file_extension": ".py",
   "mimetype": "text/x-python",
   "name": "python",
   "nbconvert_exporter": "python",
   "pygments_lexer": "ipython3",
   "version": "3.12.2"
  }
 },
 "nbformat": 4,
 "nbformat_minor": 2
}
