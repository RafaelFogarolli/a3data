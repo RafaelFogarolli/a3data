{
 "cells": [
  {
   "cell_type": "code",
   "execution_count": 1,
   "metadata": {},
   "outputs": [],
   "source": [
    "import pandas as pd"
   ]
  },
  {
   "cell_type": "markdown",
   "metadata": {},
   "source": [
    "#### Functions"
   ]
  },
  {
   "cell_type": "code",
   "execution_count": null,
   "metadata": {},
   "outputs": [],
   "source": [
    "def quality_of_service(vehicles, antennas, a):\n",
    "    \"\"\"\n",
    "    Calculate the quality of service (QoS) based on the provided data.\n",
    "\n",
    "    Parameters:\n",
    "    - vehicles (DataFrame): A DataFrame containing vehicle-related data.\n",
    "    - antennas (DataFrame): A DataFrame containing antenna-related data.\n",
    "    - a (float): The threshold value for the QoS calculation.\n",
    "\n",
    "    Returns:\n",
    "    - QoS (float): The calculated quality of service as the proportion of vehicles\n",
    "      with a QoS value greater than or equal to the given threshold 'a'.\n",
    "    \"\"\"\n",
    "\n",
    "    # Merge vehicle and antenna data\n",
    "    vehicles = vehicles.merge(antennas, how=\"left\")\n",
    "    vehicles[\"Connection\"] = vehicles[\"Permanence (s)\"] * vehicles[\"ON\"]\n",
    "\n",
    "    # Group and aggregate data by \"ID\"\n",
    "    df_ = vehicles[[\"ID\", \"Permanence (s)\", \"Connection\"]].groupby(\"ID\").sum().reset_index()\n",
    "    df_[\"Delta\"] = df_[\"Connection\"] / df_[\"Permanence (s)\"]\n",
    "\n",
    "    # Calculate the QoS based on the threshold 'a'\n",
    "    m = df_[\"Delta\"] >= a\n",
    "    QoS = m.sum() / df_.shape[0]\n",
    "\n",
    "    return QoS\n"
   ]
  },
  {
   "cell_type": "code",
   "execution_count": null,
   "metadata": {},
   "outputs": [],
   "source": [
    "def verification(df, df_RSU, b, a):\n",
    "    \"\"\"\n",
    "    Verify if the minimum quality of service (QoS) can be guaranteed based on given parameters.\n",
    "\n",
    "    Parameters:\n",
    "    - df (DataFrame): A DataFrame containing vehicle-related data.\n",
    "    - df_RSU (DataFrame): A DataFrame containing antenna-related data.\n",
    "    - b (float): The minimum required quality of service (QoS) threshold.\n",
    "    - a (float): The threshold value for the QoS calculation.\n",
    "\n",
    "    Returns:\n",
    "    - result (bool): True if the minimum QoS can be guaranteed, False otherwise.\n",
    "    \n",
    "    This function calculates the QoS using the provided data and compares it to the\n",
    "    minimum required QoS threshold 'b'. If the calculated QoS is greater than or\n",
    "    equal to 'b', it returns True, indicating that the minimum QoS can be guaranteed.\n",
    "    Otherwise, it returns False and prints a message indicating that no minimum QoS\n",
    "    guarantee can be provided.\n",
    "    \"\"\"\n",
    "    \n",
    "    # Calculate the quality of service based on the provided data\n",
    "    beta_ = quality_of_service(df.copy(), df_RSU.copy(), a)\n",
    "    \n",
    "    \n",
    "    # Check if the calculated QoS is greater than or equal to the minimum required threshold 'b'\n",
    "    if beta_ >= b:\n",
    "        print(f\"Minimum Quality Guaranteed: {df_RSU[\"ON\"].sum()}\")\n",
    "        return True\n",
    "    else:\n",
    "        print(f\"No minimum Quality Guarantee\")\n",
    "        return False\n"
   ]
  },
  {
   "cell_type": "code",
   "execution_count": null,
   "metadata": {},
   "outputs": [],
   "source": [
    "def on_off_heuristic(df_RSU, df_, df, cut, col, beta, alfa):\n",
    "    \"\"\"\n",
    "    Apply an on-off heuristic algorithm to optimize RSU deployment.\n",
    "\n",
    "    Parameters:\n",
    "    - df_RSU (DataFrame): A DataFrame containing RSU-related data.\n",
    "    - df_ (DataFrame): A DataFrame with additional data used for optimization.\n",
    "    - df (DataFrame): A DataFrame containing vehicle-related data.\n",
    "    - cut (list): A list of cutoff values for optimization iterations.\n",
    "    - col (str): The column in 'df_' to use for optimization.\n",
    "    - beta (float): The minimum required quality of service (QoS) threshold.\n",
    "    - alfa (float): The threshold value for the QoS calculation.\n",
    "\n",
    "    Returns:\n",
    "    - optimized_RSU (DataFrame): A DataFrame with optimized RSU deployment,\n",
    "      indicating which RSUs are turned on (1) and off (0).\n",
    "\n",
    "    This function applies an on-off heuristic algorithm to optimize the deployment\n",
    "    of RSUs based on given data and parameters. It starts with RSUs turned on, and\n",
    "    iteratively adjusts the deployment based on cutoff values, 'col' for optimization,\n",
    "    and quality of service requirements. The function returns a DataFrame indicating\n",
    "    the optimized RSU deployment with 'ON' values (1 for on and 0 for off) for each RSU.\n",
    "    \"\"\"\n",
    "    \n",
    "    # Merge additional data from 'df_' into the 'df_RSU' DataFrame\n",
    "    df_RSU = df_RSU.merge(df_[['X', 'Y', col]], how=\"left\")\n",
    "    \n",
    "    # Sort 'df_RSU' based on the specified 'col' for optimization\n",
    "    df_RSU.sort_values(col, inplace=True)\n",
    "\n",
    "    # Reset the index of 'df_RSU'\n",
    "    df_RSU.reset_index(drop=True, inplace=True)\n",
    "\n",
    "    # Perform an initial verification of the quality of service (QoS)\n",
    "    g = verification(df, df_RSU, beta, alfa)\n",
    "\n",
    "    # Iterate through cutoff values\n",
    "    for x in cut:\n",
    "        m = df_RSU[col] <= x\n",
    "        df_RSU.loc[m, \"ON\"] = 0\n",
    "        g = verification(df, df_RSU, beta, alfa)\n",
    "\n",
    "    i = (df_RSU[\"ON\"] == 0).sum() - 1\n",
    "    \n",
    "    # Continue optimizing RSU deployment while QoS requirements are met\n",
    "    while g:\n",
    "        i += 1\n",
    "        df_RSU.loc[i, \"ON\"] = 0\n",
    "        g = verification(df, df_RSU, beta, alfa)\n",
    "\n",
    "    # Set the last RSU to be turned on\n",
    "    df_RSU.loc[i, \"ON\"] = 1\n",
    "    g = verification(df, df_RSU, beta, alfa)\n",
    "\n",
    "    # Return the optimized RSU deployment as a DataFrame\n",
    "    return df_RSU[['X', 'Y', \"ON\"]]\n"
   ]
  },
  {
   "cell_type": "markdown",
   "metadata": {},
   "source": [
    "#### On-Off Heuristic"
   ]
  },
  {
   "cell_type": "code",
   "execution_count": null,
   "metadata": {},
   "outputs": [],
   "source": [
    "# Set the values of 'beta' and 'alfa'\n",
    "beta = 0.3\n",
    "alfa = 0.5\n",
    "\n",
    "# Read a Parquet file named 'vehicles.parquet' and store it in the 'df' DataFrame\n",
    "df = pd.read_parquet(\"files\\\\vehicles.parquet\")\n",
    "\n",
    "# Read a Parquet file named 'antennas.parquet' and store it in the 'df_RSU' DataFrame\n",
    "df_RSU = pd.read_parquet(\"files\\\\antennas.parquet\")\n",
    "\n",
    "# Set all values in the 'ON' column of the 'df_RSU' DataFrame to 1\n",
    "df_RSU[\"ON\"] = 1\n",
    "\n",
    "# Create a new DataFrame 'df_' by grouping and aggregating data from 'df' based on 'X' and 'Y'\n",
    "df_ = df[['X', 'Y', \"ID\", \"Permanence (s)\"]].groupby(['X', 'Y']).agg({\"ID\" : \"count\", \"Permanence (s)\" : \"sum\"}).reset_index()\n",
    "\n",
    "# Calculate the mean 'Permanence' and add it as a new 'Mean' column in the 'df_' DataFrame\n",
    "df_[\"Mean\"] = df_[\"Permanence (s)\"] / df_[\"ID\"]\n",
    "\n",
    "# Rename columns in the 'df_' DataFrame for clarity\n",
    "df_.rename(columns = {\"ID\" : \"Vehicles\", \"Permanence (s)\" : \"Permanence\"}, inplace = True)"
   ]
  },
  {
   "cell_type": "code",
   "execution_count": null,
   "metadata": {},
   "outputs": [],
   "source": [
    "# Define a list of cutoff values 'cut'\n",
    "cut = [10000, 25000, 45000, 48000]\n",
    "\n",
    "# Run the 'on_off_heuristic' function with specific inputs, using the 'Permanence' criterion\n",
    "# to calculate a solution and store it in the 'sol' variable\n",
    "sol = on_off_heuristic(df_RSU.copy(), df_.copy(), df.copy(), cut, \"Permanence\", beta, alfa)\n",
    "\n",
    "# Save the solution 'sol' to a Parquet file named 'Solution_Permanence.parquet'\n",
    "sol.to_parquet(\"files\\\\Solution_Permanence.parquet\")"
   ]
  },
  {
   "cell_type": "code",
   "execution_count": null,
   "metadata": {},
   "outputs": [],
   "source": [
    "# Define a different list of cutoff values 'cut'\n",
    "cut = [10, 15, 20, 25, 26]\n",
    "\n",
    "# Run the 'on_off_heuristic' function with specific inputs, using the 'Mean' criterion\n",
    "# to calculate a solution and store it in the 'sol' variable\n",
    "sol = on_off_heuristic(df_RSU.copy(), df_.copy(), df.copy(), cut, \"Mean\", beta, alfa)\n",
    "\n",
    "# Save the solution 'sol' to a Parquet file named 'Solution_Mean.parquet'\n",
    "sol.to_parquet(\"files\\\\Solution_Mean.parquet\")\n"
   ]
  },
  {
   "cell_type": "code",
   "execution_count": null,
   "metadata": {},
   "outputs": [],
   "source": [
    "# Define a different list of cutoff values 'cut'\n",
    "cut = [100, 200, 500, 1000, 1500, 1750, 1900, 1950]\n",
    "\n",
    "# Run the 'on_off_heuristic' function with specific inputs, using the 'Vehicles' criterion\n",
    "# to calculate a solution and store it in the 'sol' variable\n",
    "sol = on_off_heuristic(df_RSU.copy(), df_.copy(), df.copy(), cut, \"Vehicles\", beta, alfa)\n",
    "\n",
    "# Save the solution 'sol' to a Parquet file named 'Solution_Vehicles.parquet'\n",
    "sol.to_parquet(\"files\\\\Solution_Vehicles.parquet\")"
   ]
  },
  {
   "cell_type": "code",
   "execution_count": null,
   "metadata": {},
   "outputs": [],
   "source": []
  }
 ],
 "metadata": {
  "kernelspec": {
   "display_name": ".3ad",
   "language": "python",
   "name": "python3"
  },
  "language_info": {
   "codemirror_mode": {
    "name": "ipython",
    "version": 3
   },
   "file_extension": ".py",
   "mimetype": "text/x-python",
   "name": "python",
   "nbconvert_exporter": "python",
   "pygments_lexer": "ipython3",
   "version": "3.12.2"
  }
 },
 "nbformat": 4,
 "nbformat_minor": 2
}
